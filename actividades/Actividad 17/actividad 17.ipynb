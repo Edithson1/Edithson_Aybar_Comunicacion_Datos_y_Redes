{
  "nbformat": 4,
  "nbformat_minor": 0,
  "metadata": {
    "colab": {
      "provenance": []
    },
    "kernelspec": {
      "name": "python3",
      "display_name": "Python 3"
    },
    "language_info": {
      "name": "python"
    }
  },
  "cells": [
    {
      "cell_type": "markdown",
      "source": [
        "#### Respuesta 4\n",
        "\n",
        "Para abordar este problema, implementaremos un conjunto de funciones que simulan el proceso de transmisión de datos a través de las diferentes capas del modelo OSI (Open Systems Interconnection). Cada función representará una capa del modelo y demostrará cómo los datos se encapsulan y desencapsulan a medida que pasan de una capa a otra.\n",
        "\n",
        "El modelo OSI tiene siete capas:\n",
        "\n",
        "- Capa de aplicación\n",
        "- Capa de presentación\n",
        "- Capa de sesión\n",
        "- Capa de transporte\n",
        "- Capa de red\n",
        "- Capa de enlace de datos\n",
        "- Capa física\n",
        "\n",
        "#### Paso 1: Definir las funciones de cada capa\n",
        "\n",
        "Vamos a definir una función para cada capa, que recibirá los datos de la capa superior, añadirá su propia \"cabecera\" (simulando la encapsulación), y luego pasará los datos a la siguiente capa."
      ],
      "metadata": {
        "id": "uD8Bkn1sPRuk"
      }
    },
    {
      "cell_type": "code",
      "source": [
        "def capa_aplicacion(datos):\n",
        "    datos_encapsulados = f\"APLICACION({datos})\"\n",
        "    print(\"Aplicación envía:\", datos_encapsulados)\n",
        "    return capa_presentacion(datos_encapsulados)\n",
        "\n",
        "def capa_presentacion(datos):\n",
        "    datos_encapsulados = f\"PRESENTACION({datos})\"\n",
        "    print(\"Presentación envía:\", datos_encapsulados)\n",
        "    return capa_sesion(datos_encapsulados)\n",
        "\n",
        "def capa_sesion(datos):\n",
        "    datos_encapsulados = f\"SESION({datos})\"\n",
        "    print(\"Sesión envía:\", datos_encapsulados)\n",
        "    return capa_transporte(datos_encapsulados)\n",
        "\n",
        "def capa_transporte(datos):\n",
        "    datos_encapsulados = f\"TRANSPORTE({datos})\"\n",
        "    print(\"Transporte envía:\", datos_encapsulados)\n",
        "    return capa_red(datos_encapsulados)\n",
        "\n",
        "def capa_red(datos):\n",
        "    datos_encapsulados = f\"RED({datos})\"\n",
        "    print(\"Red envía:\", datos_encapsulados)\n",
        "    return capa_enlace(datos_encapsulados)\n",
        "\n",
        "def capa_enlace(datos):\n",
        "    datos_encapsulados = f\"ENLACE({datos})\"\n",
        "    print(\"Enlace envía:\", datos_encapsulados)\n",
        "    return capa_fisica(datos_encapsulados)\n",
        "\n",
        "def capa_fisica(datos):\n",
        "    datos_encapsulados = f\"FISICA({datos})\"\n",
        "    print(\"Física envía:\", datos_encapsulados)\n",
        "    return datos_encapsulados"
      ],
      "metadata": {
        "id": "_6CJvMoROCaz"
      },
      "execution_count": 1,
      "outputs": []
    },
    {
      "cell_type": "markdown",
      "source": [
        "Paso 2: Simular el proceso de desencapsulación\n",
        "\n",
        "Ahora necesitamos un conjunto de funciones para desencapsular los datos, que se activará en el punto de recepción."
      ],
      "metadata": {
        "id": "10ERVG2zPczK"
      }
    },
    {
      "cell_type": "code",
      "source": [
        "def desencapsular_fisica(datos):\n",
        "    return datos[7:-1]\n",
        "\n",
        "def desencapsular_enlace(datos):\n",
        "    return desencapsular_fisica(datos[6:-1])\n",
        "\n",
        "def desencapsular_red(datos):\n",
        "    return desencapsular_enlace(datos[4:-1])\n",
        "\n",
        "def desencapsular_transporte(datos):\n",
        "    return desencapsular_red(datos[11:-1])\n",
        "\n",
        "def desencapsular_sesion(datos):\n",
        "    return desencapsular_transporte(datos[7:-1])\n",
        "\n",
        "def desencapsular_presentacion(datos):\n",
        "    return desencapsular_sesion(datos[14:-1])\n",
        "\n",
        "def desencapsular_aplicacion(datos):\n",
        "    return desencapsular_presentacion(datos[11:-1])"
      ],
      "metadata": {
        "id": "1W6EU-m4PcsK"
      },
      "execution_count": 2,
      "outputs": []
    },
    {
      "cell_type": "markdown",
      "source": [
        "Paso 3: Demostración del proceso completo"
      ],
      "metadata": {
        "id": "YEQt5VWLPccK"
      }
    },
    {
      "cell_type": "code",
      "source": [
        "def demostracion():\n",
        "    mensaje_original = \"Hola Mundo\"\n",
        "    print(\"Mensaje original:\", mensaje_original)\n",
        "\n",
        "    datos_encapsulados = capa_aplicacion(mensaje_original)\n",
        "    print(\"Datos encapsulados:\", datos_encapsulados)\n",
        "\n",
        "    datos_desencapsulados = desencapsular_aplicacion(datos_encapsulados)\n",
        "    print(\"Datos desencapsulados:\", datos_desencapsulados)\n",
        "\n",
        "if __name__ == \"__main__\":\n",
        "    demostracion()\n"
      ],
      "metadata": {
        "colab": {
          "base_uri": "https://localhost:8080/",
          "height": 0
        },
        "id": "tsVd3GyKPiVi",
        "outputId": "f1382a5a-27d5-4c3e-f254-78c8c1edba9b"
      },
      "execution_count": 5,
      "outputs": [
        {
          "output_type": "stream",
          "name": "stdout",
          "text": [
            "Mensaje original: Hola Mundo\n",
            "Se realizo una solicitud HTTP\n",
            "Aplicación envía: APLICACION(Hola Mundo)\n",
            "Se neutralizo el mensaje\n",
            "Presentación envía: PRESENTACION(APLICACION(Hola Mundo))\n",
            "se establecio contacto con el otro dispositivo\n",
            "Sesión envía: SESION(PRESENTACION(APLICACION(Hola Mundo)))\n",
            "Se cresron 'n' paquetes de tamaño 'm'\n",
            "Transporte envía: TRANSPORTE(SESION(PRESENTACION(APLICACION(Hola Mundo))))\n",
            "Se utiliza una red IPV4\n",
            "Red envía: RED(TRANSPORTE(SESION(PRESENTACION(APLICACION(Hola Mundo)))))\n",
            "verificando el correcto envio del paquete\n",
            "Enlace envía: ENLACE(RED(TRANSPORTE(SESION(PRESENTACION(APLICACION(Hola Mundo))))))\n",
            "Enviando mensaje\n",
            "Física envía: FISICA(ENLACE(RED(TRANSPORTE(SESION(PRESENTACION(APLICACION(Hola Mundo)))))))\n",
            "Datos encapsulados: FISICA(ENLACE(RED(TRANSPORTE(SESION(PRESENTACION(APLICACION(Hola Mundo)))))))\n",
            "Datos desencapsulados: Hola Mundo\n"
          ]
        }
      ]
    },
    {
      "cell_type": "markdown",
      "source": [
        "#### Ejercicios adicionales para extender el uso\n",
        "\n",
        "- Implementa un mecanismo para manejar errores en cada capa.\n",
        "- Simula más detalles de cada capa, por ejemplo, manejar la segmentación en la capa de transporte o las direcciones IP en la capa de red.\n",
        "- Utiliza estas funciones en combinación con sockets para enviar y recibir datos a través de una red real, manteniendo la simulación de encapsulación y desencapsulación."
      ],
      "metadata": {
        "id": "AasS45KQPh1C"
      }
    },
    {
      "cell_type": "code",
      "source": [
        "def capa_aplicacion(datos):\n",
        "    try:\n",
        "      datos_encapsulados = f\"APLICACION({datos})\"\n",
        "      print(\"Se realizo una solicitud HTTP\") #ejemplo\n",
        "      print(\"Aplicación envía:\", datos_encapsulados)\n",
        "      return capa_presentacion(datos_encapsulados)\n",
        "    except Exception as e:\n",
        "      print(\"Error en la capa aplicacion: \", e)\n",
        "\n",
        "def capa_presentacion(datos):\n",
        "    try:\n",
        "      datos_encapsulados = f\"PRESENTACION({datos})\"\n",
        "      print(\"Se neutralizo el mensaje\")\n",
        "      print(\"Presentación envía:\", datos_encapsulados)\n",
        "      return capa_sesion(datos_encapsulados)\n",
        "    except Exception as e:\n",
        "      print(\"Error en la capa presentacion: \", e)\n",
        "\n",
        "def capa_sesion(datos):\n",
        "    try:\n",
        "      datos_encapsulados = f\"SESION({datos})\"\n",
        "      print(\"se establecio contacto con el otro dispositivo\")\n",
        "      print(\"Sesión envía:\", datos_encapsulados)\n",
        "      return capa_transporte(datos_encapsulados)\n",
        "    except Exception as e:\n",
        "      print(\"Error en la capa sesion: \", e)\n",
        "\n",
        "def capa_transporte(datos):\n",
        "    try:\n",
        "      datos_encapsulados = f\"TRANSPORTE({datos})\"\n",
        "      print(\"Se cresron 'n' paquetes de tamaño 'm'\") #ejemplo\n",
        "      print(\"Transporte envía:\", datos_encapsulados)\n",
        "      return capa_red(datos_encapsulados)\n",
        "    except Exception as e:\n",
        "      print(\"Error en la capa transporte: \", e)\n",
        "\n",
        "def capa_red(datos):\n",
        "    try:\n",
        "      datos_encapsulados = f\"RED({datos})\"\n",
        "      print(\"Se utiliza una red IPV4\")\n",
        "      print(\"Red envía:\", datos_encapsulados)\n",
        "      return capa_enlace(datos_encapsulados)\n",
        "    except Exception as e:\n",
        "      print(\"Error en la capa red: \", e)\n",
        "\n",
        "def capa_enlace(datos):\n",
        "    try:\n",
        "      datos_encapsulados = f\"ENLACE({datos})\"\n",
        "      print(\"verificando el correcto envio del paquete\")\n",
        "      print(\"Enlace envía:\", datos_encapsulados)\n",
        "      return capa_fisica(datos_encapsulados)\n",
        "    except Exception as e:\n",
        "      print(\"Error en la capa enlace: \", e)\n",
        "      print(\"se solicita un reenvio a la capa transporte\")\n",
        "\n",
        "def capa_fisica(datos):\n",
        "    try:\n",
        "      datos_encapsulados = f\"FISICA({datos})\"\n",
        "      print(\"Enviando mensaje\")\n",
        "      print(\"Física envía:\", datos_encapsulados)\n",
        "      return datos_encapsulados\n",
        "    except Exception as e:\n",
        "      print(\"Error en la capa fisica: \", e)"
      ],
      "metadata": {
        "id": "kT5k3xifPnCT"
      },
      "execution_count": 4,
      "outputs": []
    },
    {
      "cell_type": "code",
      "source": [
        "def demostracion():\n",
        "    #del ciente al servidor\n",
        "    mensaje_original = \"Hola Mundo\"\n",
        "    print(\"Mensaje a enviar:\", mensaje_original)\n",
        "    servidor = \"servidor\"\n",
        "    ip1 = 12\n",
        "    ip2 = 11\n",
        "    datos_encapsulados = capa_aplicacion(mensaje_original)\n",
        "    print(\"El dispositivo de ip \"+str(ip1)+ \" envia una solittud al servidor \"+servidor+ \" de ip \"+ str(ip2))\n",
        "    print(\"Se envio:\", datos_encapsulados)\n",
        "\n",
        "    #El servidor\n",
        "    datos_desencapsulados = desencapsular_aplicacion(datos_encapsulados)\n",
        "\n",
        "    print(\"Solicitud recibida:\", datos_desencapsulados)\n",
        "\n",
        "if __name__ == \"__main__\":\n",
        "    demostracion()"
      ],
      "metadata": {
        "colab": {
          "base_uri": "https://localhost:8080/",
          "height": 0
        },
        "id": "Gx13Jajz_u00",
        "outputId": "255b3010-29e3-44da-d28f-0078015a52bb"
      },
      "execution_count": 7,
      "outputs": [
        {
          "output_type": "stream",
          "name": "stdout",
          "text": [
            "Mensaje a enviar: Hola Mundo\n",
            "Se realizo una solicitud HTTP\n",
            "Aplicación envía: APLICACION(Hola Mundo)\n",
            "Se neutralizo el mensaje\n",
            "Presentación envía: PRESENTACION(APLICACION(Hola Mundo))\n",
            "se establecio contacto con el otro dispositivo\n",
            "Sesión envía: SESION(PRESENTACION(APLICACION(Hola Mundo)))\n",
            "Se cresron 'n' paquetes de tamaño 'm'\n",
            "Transporte envía: TRANSPORTE(SESION(PRESENTACION(APLICACION(Hola Mundo))))\n",
            "Se utiliza una red IPV4\n",
            "Red envía: RED(TRANSPORTE(SESION(PRESENTACION(APLICACION(Hola Mundo)))))\n",
            "verificando el correcto envio del paquete\n",
            "Enlace envía: ENLACE(RED(TRANSPORTE(SESION(PRESENTACION(APLICACION(Hola Mundo))))))\n",
            "Enviando mensaje\n",
            "Física envía: FISICA(ENLACE(RED(TRANSPORTE(SESION(PRESENTACION(APLICACION(Hola Mundo)))))))\n",
            "El dispositivo de ip 12 envia una solittud al servidor servidor de ip 11\n",
            "Se envio: FISICA(ENLACE(RED(TRANSPORTE(SESION(PRESENTACION(APLICACION(Hola Mundo)))))))\n",
            "Solicitud recibida: Hola Mundo\n"
          ]
        }
      ]
    }
  ]
}